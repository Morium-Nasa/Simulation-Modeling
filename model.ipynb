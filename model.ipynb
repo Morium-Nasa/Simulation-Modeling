{
  "nbformat": 4,
  "nbformat_minor": 0,
  "metadata": {
    "colab": {
      "name": "model.ipynb",
      "provenance": [],
      "mount_file_id": "15AJIe0QI4Qj8jpMo0sTqm0ZDp7G4aCt3",
      "authorship_tag": "ABX9TyNpLkccjFsZ3Bd0KncEwPnA",
      "include_colab_link": true
    },
    "kernelspec": {
      "name": "python3",
      "display_name": "Python 3"
    },
    "language_info": {
      "name": "python"
    }
  },
  "cells": [
    {
      "cell_type": "markdown",
      "metadata": {
        "id": "view-in-github",
        "colab_type": "text"
      },
      "source": [
        "<a href=\"https://colab.research.google.com/github/Morium-Nasa/Simulation-Modeling/blob/main/model.ipynb\" target=\"_parent\"><img src=\"https://colab.research.google.com/assets/colab-badge.svg\" alt=\"Open In Colab\"/></a>"
      ]
    },
    {
      "cell_type": "code",
      "execution_count": null,
      "metadata": {
        "id": "_l3AXmHEaEf5"
      },
      "outputs": [],
      "source": [
        "import numpy as np\n",
        "import pandas as pd\n",
        "import matplotlib.pyplot as plt\n"
      ]
    },
    {
      "cell_type": "code",
      "source": [
        "x=int(input('My last 5 digit: '))\n",
        "y=int(input('Anoter number: '))\n",
        "print('Divion result=',x/y)\n"
      ],
      "metadata": {
        "id": "c2UBYYvoJnEw"
      },
      "execution_count": null,
      "outputs": []
    },
    {
      "cell_type": "code",
      "source": [
        "#Get data with pandas\n",
        "data = pd.read_csv(\"/content/drive/MyDrive/Colab Notebooks/Copy of house-prices.csv\")"
      ],
      "metadata": {
        "id": "L3L6Gg-fi6xD"
      },
      "execution_count": null,
      "outputs": []
    },
    {
      "cell_type": "code",
      "source": [
        "#print data\n",
        "print(data)"
      ],
      "metadata": {
        "colab": {
          "base_uri": "https://localhost:8080/"
        },
        "id": "8o-EXwxNkduc",
        "outputId": "041f3ac8-4274-4e51-ec90-704c9f94a5ce"
      },
      "execution_count": null,
      "outputs": [
        {
          "output_type": "stream",
          "name": "stdout",
          "text": [
            "   Area   Price\n",
            "0  2000  350000\n",
            "1  1000  150000\n",
            "2   900  130000\n",
            "3  3000  450000\n",
            "4  4000  550000\n",
            "5  5000  700000\n",
            "6  6500  800000\n",
            "7  7000  900000\n",
            "8  8000  800000\n"
          ]
        }
      ]
    },
    {
      "cell_type": "code",
      "source": [
        "data.isnull().any()"
      ],
      "metadata": {
        "colab": {
          "base_uri": "https://localhost:8080/"
        },
        "id": "7kd7Hkhuksf8",
        "outputId": "38303bdc-38ba-422d-8ef6-9a521f2f7f74"
      },
      "execution_count": null,
      "outputs": [
        {
          "output_type": "execute_result",
          "data": {
            "text/plain": [
              "Area     False\n",
              "Price    False\n",
              "dtype: bool"
            ]
          },
          "metadata": {},
          "execution_count": 4
        }
      ]
    },
    {
      "cell_type": "code",
      "source": [
        "data.shape"
      ],
      "metadata": {
        "colab": {
          "base_uri": "https://localhost:8080/"
        },
        "id": "9I8oojeBpOV-",
        "outputId": "cfedb332-baa6-4bbc-ba50-a00e12a49b0a"
      },
      "execution_count": null,
      "outputs": [
        {
          "output_type": "execute_result",
          "data": {
            "text/plain": [
              "(9, 2)"
            ]
          },
          "metadata": {},
          "execution_count": 5
        }
      ]
    }
  ]
}